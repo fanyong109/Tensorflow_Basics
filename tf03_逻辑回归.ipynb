{
 "cells": [
  {
   "cell_type": "code",
   "execution_count": 1,
   "metadata": {},
   "outputs": [
    {
     "name": "stderr",
     "output_type": "stream",
     "text": [
      "F:\\dev\\Python\\Python36\\lib\\site-packages\\tensorflow\\python\\framework\\dtypes.py:523: FutureWarning: Passing (type, 1) or '1type' as a synonym of type is deprecated; in a future version of numpy, it will be understood as (type, (1,)) / '(1,)type'.\n",
      "  _np_qint8 = np.dtype([(\"qint8\", np.int8, 1)])\n",
      "F:\\dev\\Python\\Python36\\lib\\site-packages\\tensorflow\\python\\framework\\dtypes.py:524: FutureWarning: Passing (type, 1) or '1type' as a synonym of type is deprecated; in a future version of numpy, it will be understood as (type, (1,)) / '(1,)type'.\n",
      "  _np_quint8 = np.dtype([(\"quint8\", np.uint8, 1)])\n",
      "F:\\dev\\Python\\Python36\\lib\\site-packages\\tensorflow\\python\\framework\\dtypes.py:525: FutureWarning: Passing (type, 1) or '1type' as a synonym of type is deprecated; in a future version of numpy, it will be understood as (type, (1,)) / '(1,)type'.\n",
      "  _np_qint16 = np.dtype([(\"qint16\", np.int16, 1)])\n",
      "F:\\dev\\Python\\Python36\\lib\\site-packages\\tensorflow\\python\\framework\\dtypes.py:526: FutureWarning: Passing (type, 1) or '1type' as a synonym of type is deprecated; in a future version of numpy, it will be understood as (type, (1,)) / '(1,)type'.\n",
      "  _np_quint16 = np.dtype([(\"quint16\", np.uint16, 1)])\n",
      "F:\\dev\\Python\\Python36\\lib\\site-packages\\tensorflow\\python\\framework\\dtypes.py:527: FutureWarning: Passing (type, 1) or '1type' as a synonym of type is deprecated; in a future version of numpy, it will be understood as (type, (1,)) / '(1,)type'.\n",
      "  _np_qint32 = np.dtype([(\"qint32\", np.int32, 1)])\n",
      "F:\\dev\\Python\\Python36\\lib\\site-packages\\tensorflow\\python\\framework\\dtypes.py:532: FutureWarning: Passing (type, 1) or '1type' as a synonym of type is deprecated; in a future version of numpy, it will be understood as (type, (1,)) / '(1,)type'.\n",
      "  np_resource = np.dtype([(\"resource\", np.ubyte, 1)])\n"
     ]
    }
   ],
   "source": [
    "import  tensorflow as tf"
   ]
  },
  {
   "cell_type": "code",
   "execution_count": 2,
   "metadata": {},
   "outputs": [
    {
     "name": "stdout",
     "output_type": "stream",
     "text": [
      "1.12.0\n"
     ]
    }
   ],
   "source": [
    "print(tf.__version__)"
   ]
  },
  {
   "cell_type": "code",
   "execution_count": 3,
   "metadata": {},
   "outputs": [],
   "source": [
    "import pandas as pd\n",
    "import numpy as np\n",
    "import matplotlib.pyplot as plt\n",
    "%matplotlib inline"
   ]
  },
  {
   "cell_type": "code",
   "execution_count": 4,
   "metadata": {},
   "outputs": [],
   "source": [
    "data = pd.read_csv('./dataset/credit-a.csv',header = None)"
   ]
  },
  {
   "cell_type": "code",
   "execution_count": 5,
   "metadata": {},
   "outputs": [
    {
     "data": {
      "text/html": [
       "<div>\n",
       "<style scoped>\n",
       "    .dataframe tbody tr th:only-of-type {\n",
       "        vertical-align: middle;\n",
       "    }\n",
       "\n",
       "    .dataframe tbody tr th {\n",
       "        vertical-align: top;\n",
       "    }\n",
       "\n",
       "    .dataframe thead th {\n",
       "        text-align: right;\n",
       "    }\n",
       "</style>\n",
       "<table border=\"1\" class=\"dataframe\">\n",
       "  <thead>\n",
       "    <tr style=\"text-align: right;\">\n",
       "      <th></th>\n",
       "      <th>0</th>\n",
       "      <th>1</th>\n",
       "      <th>2</th>\n",
       "      <th>3</th>\n",
       "      <th>4</th>\n",
       "      <th>5</th>\n",
       "      <th>6</th>\n",
       "      <th>7</th>\n",
       "      <th>8</th>\n",
       "      <th>9</th>\n",
       "      <th>10</th>\n",
       "      <th>11</th>\n",
       "      <th>12</th>\n",
       "      <th>13</th>\n",
       "      <th>14</th>\n",
       "      <th>15</th>\n",
       "    </tr>\n",
       "  </thead>\n",
       "  <tbody>\n",
       "    <tr>\n",
       "      <th>0</th>\n",
       "      <td>0</td>\n",
       "      <td>30.83</td>\n",
       "      <td>0.000</td>\n",
       "      <td>0</td>\n",
       "      <td>0</td>\n",
       "      <td>9</td>\n",
       "      <td>0</td>\n",
       "      <td>1.25</td>\n",
       "      <td>0</td>\n",
       "      <td>0</td>\n",
       "      <td>1</td>\n",
       "      <td>1</td>\n",
       "      <td>0</td>\n",
       "      <td>202</td>\n",
       "      <td>0.0</td>\n",
       "      <td>-1</td>\n",
       "    </tr>\n",
       "    <tr>\n",
       "      <th>1</th>\n",
       "      <td>1</td>\n",
       "      <td>58.67</td>\n",
       "      <td>4.460</td>\n",
       "      <td>0</td>\n",
       "      <td>0</td>\n",
       "      <td>8</td>\n",
       "      <td>1</td>\n",
       "      <td>3.04</td>\n",
       "      <td>0</td>\n",
       "      <td>0</td>\n",
       "      <td>6</td>\n",
       "      <td>1</td>\n",
       "      <td>0</td>\n",
       "      <td>43</td>\n",
       "      <td>560.0</td>\n",
       "      <td>-1</td>\n",
       "    </tr>\n",
       "    <tr>\n",
       "      <th>2</th>\n",
       "      <td>1</td>\n",
       "      <td>24.50</td>\n",
       "      <td>0.500</td>\n",
       "      <td>0</td>\n",
       "      <td>0</td>\n",
       "      <td>8</td>\n",
       "      <td>1</td>\n",
       "      <td>1.50</td>\n",
       "      <td>0</td>\n",
       "      <td>1</td>\n",
       "      <td>0</td>\n",
       "      <td>1</td>\n",
       "      <td>0</td>\n",
       "      <td>280</td>\n",
       "      <td>824.0</td>\n",
       "      <td>-1</td>\n",
       "    </tr>\n",
       "    <tr>\n",
       "      <th>3</th>\n",
       "      <td>0</td>\n",
       "      <td>27.83</td>\n",
       "      <td>1.540</td>\n",
       "      <td>0</td>\n",
       "      <td>0</td>\n",
       "      <td>9</td>\n",
       "      <td>0</td>\n",
       "      <td>3.75</td>\n",
       "      <td>0</td>\n",
       "      <td>0</td>\n",
       "      <td>5</td>\n",
       "      <td>0</td>\n",
       "      <td>0</td>\n",
       "      <td>100</td>\n",
       "      <td>3.0</td>\n",
       "      <td>-1</td>\n",
       "    </tr>\n",
       "    <tr>\n",
       "      <th>4</th>\n",
       "      <td>0</td>\n",
       "      <td>20.17</td>\n",
       "      <td>5.625</td>\n",
       "      <td>0</td>\n",
       "      <td>0</td>\n",
       "      <td>9</td>\n",
       "      <td>0</td>\n",
       "      <td>1.71</td>\n",
       "      <td>0</td>\n",
       "      <td>1</td>\n",
       "      <td>0</td>\n",
       "      <td>1</td>\n",
       "      <td>2</td>\n",
       "      <td>120</td>\n",
       "      <td>0.0</td>\n",
       "      <td>-1</td>\n",
       "    </tr>\n",
       "  </tbody>\n",
       "</table>\n",
       "</div>"
      ],
      "text/plain": [
       "   0      1      2   3   4   5   6     7   8   9   10  11  12   13     14  15\n",
       "0   0  30.83  0.000   0   0   9   0  1.25   0   0   1   1   0  202    0.0  -1\n",
       "1   1  58.67  4.460   0   0   8   1  3.04   0   0   6   1   0   43  560.0  -1\n",
       "2   1  24.50  0.500   0   0   8   1  1.50   0   1   0   1   0  280  824.0  -1\n",
       "3   0  27.83  1.540   0   0   9   0  3.75   0   0   5   0   0  100    3.0  -1\n",
       "4   0  20.17  5.625   0   0   9   0  1.71   0   1   0   1   2  120    0.0  -1"
      ]
     },
     "execution_count": 5,
     "metadata": {},
     "output_type": "execute_result"
    }
   ],
   "source": [
    "data.head()"
   ]
  },
  {
   "cell_type": "code",
   "execution_count": 6,
   "metadata": {},
   "outputs": [
    {
     "data": {
      "text/plain": [
       " 1    357\n",
       "-1    296\n",
       "Name: 15, dtype: int64"
      ]
     },
     "execution_count": 6,
     "metadata": {},
     "output_type": "execute_result"
    }
   ],
   "source": [
    "data.iloc[:, -1].value_counts()"
   ]
  },
  {
   "cell_type": "code",
   "execution_count": 7,
   "metadata": {},
   "outputs": [],
   "source": [
    "x = data.iloc[:, :-1]\n",
    "y = data.iloc[:, -1].replace(-1,0)"
   ]
  },
  {
   "cell_type": "code",
   "execution_count": 8,
   "metadata": {},
   "outputs": [],
   "source": [
    "model = tf.keras.Sequential()"
   ]
  },
  {
   "cell_type": "code",
   "execution_count": 9,
   "metadata": {},
   "outputs": [],
   "source": [
    "model.add(tf.keras.layers.Dense(4, input_shape=(15,),activation='relu'))\n",
    "model.add(tf.keras.layers.Dense(4, activation='relu'))\n",
    "model.add(tf.keras.layers.Dense(1, activation='sigmoid'))"
   ]
  },
  {
   "cell_type": "code",
   "execution_count": 10,
   "metadata": {},
   "outputs": [
    {
     "name": "stdout",
     "output_type": "stream",
     "text": [
      "_________________________________________________________________\n",
      "Layer (type)                 Output Shape              Param #   \n",
      "=================================================================\n",
      "dense (Dense)                (None, 4)                 64        \n",
      "_________________________________________________________________\n",
      "dense_1 (Dense)              (None, 4)                 20        \n",
      "_________________________________________________________________\n",
      "dense_2 (Dense)              (None, 1)                 5         \n",
      "=================================================================\n",
      "Total params: 89\n",
      "Trainable params: 89\n",
      "Non-trainable params: 0\n",
      "_________________________________________________________________\n"
     ]
    }
   ],
   "source": [
    "model.summary()"
   ]
  },
  {
   "cell_type": "code",
   "execution_count": 11,
   "metadata": {},
   "outputs": [],
   "source": [
    "model.compile(optimizer='adam',\n",
    "              loss='binary_crossentropy',\n",
    "              metrics = ['acc']\n",
    "             )"
   ]
  },
  {
   "cell_type": "code",
   "execution_count": 12,
   "metadata": {},
   "outputs": [
    {
     "name": "stdout",
     "output_type": "stream",
     "text": [
      "Epoch 1/100\n",
      "653/653 [==============================] - 0s 481us/step - loss: 5.3460 - acc: 0.5559\n",
      "Epoch 2/100\n",
      "653/653 [==============================] - 0s 49us/step - loss: 4.6813 - acc: 0.4962\n",
      "Epoch 3/100\n",
      "653/653 [==============================] - 0s 52us/step - loss: 4.4763 - acc: 0.4946\n",
      "Epoch 4/100\n",
      "653/653 [==============================] - 0s 43us/step - loss: 4.2403 - acc: 0.4885\n",
      "Epoch 5/100\n",
      "653/653 [==============================] - 0s 41us/step - loss: 3.9895 - acc: 0.4885\n",
      "Epoch 6/100\n",
      "653/653 [==============================] - 0s 53us/step - loss: 3.5251 - acc: 0.4931\n",
      "Epoch 7/100\n",
      "653/653 [==============================] - 0s 41us/step - loss: 1.7227 - acc: 0.5804\n",
      "Epoch 8/100\n",
      "653/653 [==============================] - 0s 47us/step - loss: 1.1089 - acc: 0.6202\n",
      "Epoch 9/100\n",
      "653/653 [==============================] - 0s 44us/step - loss: 0.9621 - acc: 0.6447\n",
      "Epoch 10/100\n",
      "653/653 [==============================] - 0s 49us/step - loss: 0.9247 - acc: 0.6141\n",
      "Epoch 11/100\n",
      "653/653 [==============================] - 0s 46us/step - loss: 0.8685 - acc: 0.6371\n",
      "Epoch 12/100\n",
      "653/653 [==============================] - 0s 44us/step - loss: 0.8379 - acc: 0.6371\n",
      "Epoch 13/100\n",
      "653/653 [==============================] - 0s 43us/step - loss: 0.8094 - acc: 0.6325\n",
      "Epoch 14/100\n",
      "653/653 [==============================] - 0s 46us/step - loss: 0.8133 - acc: 0.6417\n",
      "Epoch 15/100\n",
      "653/653 [==============================] - 0s 38us/step - loss: 0.7793 - acc: 0.6447\n",
      "Epoch 16/100\n",
      "653/653 [==============================] - 0s 40us/step - loss: 0.7575 - acc: 0.6294\n",
      "Epoch 17/100\n",
      "653/653 [==============================] - 0s 38us/step - loss: 0.7428 - acc: 0.6417\n",
      "Epoch 18/100\n",
      "653/653 [==============================] - 0s 47us/step - loss: 0.7324 - acc: 0.6508\n",
      "Epoch 19/100\n",
      "653/653 [==============================] - 0s 49us/step - loss: 0.7253 - acc: 0.6417\n",
      "Epoch 20/100\n",
      "653/653 [==============================] - 0s 44us/step - loss: 0.7202 - acc: 0.6478\n",
      "Epoch 21/100\n",
      "653/653 [==============================] - 0s 41us/step - loss: 0.7021 - acc: 0.6631\n",
      "Epoch 22/100\n",
      "653/653 [==============================] - 0s 38us/step - loss: 0.6976 - acc: 0.6493\n",
      "Epoch 23/100\n",
      "653/653 [==============================] - 0s 40us/step - loss: 0.6837 - acc: 0.6493\n",
      "Epoch 24/100\n",
      "653/653 [==============================] - 0s 46us/step - loss: 0.6804 - acc: 0.6508\n",
      "Epoch 25/100\n",
      "653/653 [==============================] - 0s 35us/step - loss: 0.6877 - acc: 0.6616\n",
      "Epoch 26/100\n",
      "653/653 [==============================] - 0s 38us/step - loss: 0.6639 - acc: 0.6600\n",
      "Epoch 27/100\n",
      "653/653 [==============================] - 0s 40us/step - loss: 0.6615 - acc: 0.6508\n",
      "Epoch 28/100\n",
      "653/653 [==============================] - 0s 37us/step - loss: 0.6560 - acc: 0.6417\n",
      "Epoch 29/100\n",
      "653/653 [==============================] - 0s 46us/step - loss: 0.6475 - acc: 0.6570\n",
      "Epoch 30/100\n",
      "653/653 [==============================] - 0s 44us/step - loss: 0.6460 - acc: 0.6432\n",
      "Epoch 31/100\n",
      "653/653 [==============================] - 0s 40us/step - loss: 0.6437 - acc: 0.6815\n",
      "Epoch 32/100\n",
      "653/653 [==============================] - 0s 49us/step - loss: 0.6334 - acc: 0.6508\n",
      "Epoch 33/100\n",
      "653/653 [==============================] - 0s 50us/step - loss: 0.6456 - acc: 0.6723\n",
      "Epoch 34/100\n",
      "653/653 [==============================] - 0s 44us/step - loss: 0.6340 - acc: 0.6478\n",
      "Epoch 35/100\n",
      "653/653 [==============================] - 0s 44us/step - loss: 0.6228 - acc: 0.6692\n",
      "Epoch 36/100\n",
      "653/653 [==============================] - 0s 43us/step - loss: 0.6337 - acc: 0.6447\n",
      "Epoch 37/100\n",
      "653/653 [==============================] - 0s 38us/step - loss: 0.6143 - acc: 0.6646\n",
      "Epoch 38/100\n",
      "653/653 [==============================] - 0s 46us/step - loss: 0.6165 - acc: 0.6616\n",
      "Epoch 39/100\n",
      "653/653 [==============================] - 0s 49us/step - loss: 0.6135 - acc: 0.6708\n",
      "Epoch 40/100\n",
      "653/653 [==============================] - 0s 49us/step - loss: 0.6117 - acc: 0.6616\n",
      "Epoch 41/100\n",
      "653/653 [==============================] - 0s 43us/step - loss: 0.6056 - acc: 0.6753\n",
      "Epoch 42/100\n",
      "653/653 [==============================] - 0s 37us/step - loss: 0.6014 - acc: 0.6753\n",
      "Epoch 43/100\n",
      "653/653 [==============================] - 0s 46us/step - loss: 0.6034 - acc: 0.6830\n",
      "Epoch 44/100\n",
      "653/653 [==============================] - 0s 44us/step - loss: 0.5969 - acc: 0.6907\n",
      "Epoch 45/100\n",
      "653/653 [==============================] - 0s 47us/step - loss: 0.6015 - acc: 0.6907\n",
      "Epoch 46/100\n",
      "653/653 [==============================] - 0s 37us/step - loss: 0.5896 - acc: 0.6968\n",
      "Epoch 47/100\n",
      "653/653 [==============================] - 0s 41us/step - loss: 0.5891 - acc: 0.6968\n",
      "Epoch 48/100\n",
      "653/653 [==============================] - 0s 49us/step - loss: 0.5876 - acc: 0.6830\n",
      "Epoch 49/100\n",
      "653/653 [==============================] - 0s 49us/step - loss: 0.5923 - acc: 0.6876\n",
      "Epoch 50/100\n",
      "653/653 [==============================] - 0s 46us/step - loss: 0.5873 - acc: 0.6922\n",
      "Epoch 51/100\n",
      "653/653 [==============================] - 0s 49us/step - loss: 0.5811 - acc: 0.6983\n",
      "Epoch 52/100\n",
      "653/653 [==============================] - 0s 44us/step - loss: 0.5829 - acc: 0.6998\n",
      "Epoch 53/100\n",
      "653/653 [==============================] - 0s 57us/step - loss: 0.5819 - acc: 0.6968\n",
      "Epoch 54/100\n",
      "653/653 [==============================] - 0s 50us/step - loss: 0.5828 - acc: 0.7029\n",
      "Epoch 55/100\n",
      "653/653 [==============================] - 0s 50us/step - loss: 0.5769 - acc: 0.6998\n",
      "Epoch 56/100\n",
      "653/653 [==============================] - 0s 46us/step - loss: 0.5764 - acc: 0.6953\n",
      "Epoch 57/100\n",
      "653/653 [==============================] - 0s 44us/step - loss: 0.5724 - acc: 0.6998\n",
      "Epoch 58/100\n",
      "653/653 [==============================] - 0s 35us/step - loss: 0.5757 - acc: 0.6922\n",
      "Epoch 59/100\n",
      "653/653 [==============================] - 0s 38us/step - loss: 0.5791 - acc: 0.6922\n",
      "Epoch 60/100\n",
      "653/653 [==============================] - 0s 37us/step - loss: 0.5745 - acc: 0.6998\n",
      "Epoch 61/100\n",
      "653/653 [==============================] - 0s 38us/step - loss: 0.5746 - acc: 0.6983\n",
      "Epoch 62/100\n",
      "653/653 [==============================] - 0s 38us/step - loss: 0.5736 - acc: 0.6968\n",
      "Epoch 63/100\n",
      "653/653 [==============================] - 0s 43us/step - loss: 0.5657 - acc: 0.7044\n",
      "Epoch 64/100\n",
      "653/653 [==============================] - 0s 46us/step - loss: 0.5730 - acc: 0.6953\n",
      "Epoch 65/100\n",
      "653/653 [==============================] - 0s 46us/step - loss: 0.5663 - acc: 0.7014\n",
      "Epoch 66/100\n",
      "653/653 [==============================] - 0s 47us/step - loss: 0.5731 - acc: 0.7029\n",
      "Epoch 67/100\n",
      "653/653 [==============================] - 0s 46us/step - loss: 0.5767 - acc: 0.7014\n",
      "Epoch 68/100\n",
      "653/653 [==============================] - 0s 44us/step - loss: 0.5651 - acc: 0.7044\n",
      "Epoch 69/100\n",
      "653/653 [==============================] - 0s 41us/step - loss: 0.5653 - acc: 0.7029\n",
      "Epoch 70/100\n",
      "653/653 [==============================] - 0s 49us/step - loss: 0.5623 - acc: 0.7075\n",
      "Epoch 71/100\n",
      "653/653 [==============================] - 0s 46us/step - loss: 0.5581 - acc: 0.7106\n",
      "Epoch 72/100\n",
      "653/653 [==============================] - 0s 43us/step - loss: 0.5576 - acc: 0.7106\n",
      "Epoch 73/100\n",
      "653/653 [==============================] - 0s 41us/step - loss: 0.5572 - acc: 0.7044\n",
      "Epoch 74/100\n",
      "653/653 [==============================] - 0s 32us/step - loss: 0.5592 - acc: 0.7075\n",
      "Epoch 75/100\n",
      "653/653 [==============================] - 0s 37us/step - loss: 0.5535 - acc: 0.7090\n",
      "Epoch 76/100\n",
      "653/653 [==============================] - 0s 35us/step - loss: 0.5577 - acc: 0.7060\n",
      "Epoch 77/100\n",
      "653/653 [==============================] - 0s 34us/step - loss: 0.5548 - acc: 0.7075\n",
      "Epoch 78/100\n",
      "653/653 [==============================] - 0s 40us/step - loss: 0.5569 - acc: 0.7044\n",
      "Epoch 79/100\n",
      "653/653 [==============================] - 0s 37us/step - loss: 0.5548 - acc: 0.7075\n",
      "Epoch 80/100\n",
      "653/653 [==============================] - 0s 31us/step - loss: 0.5537 - acc: 0.7106\n",
      "Epoch 81/100\n",
      "653/653 [==============================] - 0s 35us/step - loss: 0.5494 - acc: 0.7136\n",
      "Epoch 82/100\n",
      "653/653 [==============================] - 0s 37us/step - loss: 0.5518 - acc: 0.7075\n",
      "Epoch 83/100\n",
      "653/653 [==============================] - 0s 35us/step - loss: 0.5553 - acc: 0.7090\n",
      "Epoch 84/100\n",
      "653/653 [==============================] - 0s 37us/step - loss: 0.5530 - acc: 0.7060\n",
      "Epoch 85/100\n",
      "653/653 [==============================] - 0s 34us/step - loss: 0.5471 - acc: 0.7075\n",
      "Epoch 86/100\n",
      "653/653 [==============================] - 0s 35us/step - loss: 0.5474 - acc: 0.7029\n",
      "Epoch 87/100\n",
      "653/653 [==============================] - 0s 37us/step - loss: 0.5576 - acc: 0.7044\n",
      "Epoch 88/100\n",
      "653/653 [==============================] - 0s 32us/step - loss: 0.5445 - acc: 0.7060\n",
      "Epoch 89/100\n",
      "653/653 [==============================] - 0s 34us/step - loss: 0.5487 - acc: 0.7075\n",
      "Epoch 90/100\n",
      "653/653 [==============================] - 0s 34us/step - loss: 0.5443 - acc: 0.7029\n",
      "Epoch 91/100\n",
      "653/653 [==============================] - 0s 58us/step - loss: 0.5525 - acc: 0.6968\n",
      "Epoch 92/100\n",
      "653/653 [==============================] - 0s 32us/step - loss: 0.5464 - acc: 0.7167\n",
      "Epoch 93/100\n",
      "653/653 [==============================] - 0s 37us/step - loss: 0.5459 - acc: 0.7228\n",
      "Epoch 94/100\n",
      "653/653 [==============================] - 0s 34us/step - loss: 0.5446 - acc: 0.7167\n",
      "Epoch 95/100\n",
      "653/653 [==============================] - 0s 38us/step - loss: 0.5401 - acc: 0.7228\n",
      "Epoch 96/100\n",
      "653/653 [==============================] - 0s 38us/step - loss: 0.5433 - acc: 0.7121\n",
      "Epoch 97/100\n",
      "653/653 [==============================] - 0s 34us/step - loss: 0.5466 - acc: 0.7106\n",
      "Epoch 98/100\n",
      "653/653 [==============================] - 0s 37us/step - loss: 0.5506 - acc: 0.7136\n",
      "Epoch 99/100\n",
      "653/653 [==============================] - 0s 32us/step - loss: 0.5455 - acc: 0.7198\n",
      "Epoch 100/100\n",
      "653/653 [==============================] - 0s 35us/step - loss: 0.5367 - acc: 0.7198\n"
     ]
    }
   ],
   "source": [
    "history = model.fit(x,y,epochs=100)"
   ]
  },
  {
   "cell_type": "code",
   "execution_count": 13,
   "metadata": {},
   "outputs": [
    {
     "data": {
      "text/plain": [
       "dict_keys(['loss', 'acc'])"
      ]
     },
     "execution_count": 13,
     "metadata": {},
     "output_type": "execute_result"
    }
   ],
   "source": [
    "history.history.keys()"
   ]
  },
  {
   "cell_type": "code",
   "execution_count": 14,
   "metadata": {},
   "outputs": [
    {
     "data": {
      "text/plain": [
       "[<matplotlib.lines.Line2D at 0x1831e9a1358>]"
      ]
     },
     "execution_count": 14,
     "metadata": {},
     "output_type": "execute_result"
    },
    {
     "data": {
      "image/png": "[encoded data removed]",
      "text/plain": [
       "<Figure size 432x288 with 1 Axes>"
      ]
     },
     "metadata": {
      "needs_background": "light"
     },
     "output_type": "display_data"
    }
   ],
   "source": [
    "plt.plot(history.epoch,history.history.get('loss'))"
   ]
  },
  {
   "cell_type": "code",
   "execution_count": 15,
   "metadata": {},
   "outputs": [
    {
     "data": {
      "text/plain": [
       "[<matplotlib.lines.Line2D at 0x18321a91588>]"
      ]
     },
     "execution_count": 15,
     "metadata": {},
     "output_type": "execute_result"
    },
    {
     "data": {
      "image/png": "[encoded data removed]",
      "text/plain": [
       "<Figure size 432x288 with 1 Axes>"
      ]
     },
     "metadata": {
      "needs_background": "light"
     },
     "output_type": "display_data"
    }
   ],
   "source": [
    "plt.plot(history.epoch,history.history.get('acc'))"
   ]
  },
  {
   "cell_type": "code",
   "execution_count": null,
   "metadata": {},
   "outputs": [],
   "source": []
  }
 ],
 "metadata": {
  "kernelspec": {
   "display_name": "Python 3",
   "language": "python",
   "name": "python3"
  },
  "language_info": {
   "codemirror_mode": {
    "name": "ipython",
    "version": 3
   },
   "file_extension": ".py",
   "mimetype": "text/x-python",
   "name": "python",
   "nbconvert_exporter": "python",
   "pygments_lexer": "ipython3",
   "version": "3.6.5"
  }
 },
 "nbformat": 4,
 "nbformat_minor": 1
}
