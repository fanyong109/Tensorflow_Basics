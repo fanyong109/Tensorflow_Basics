{
 "cells": [
  {
   "cell_type": "code",
   "execution_count": 2,
   "metadata": {},
   "outputs": [
    {
     "name": "stderr",
     "output_type": "stream",
     "text": [
      "f:\\dev\\python\\python36\\lib\\site-packages\\tensorflow\\python\\framework\\dtypes.py:523: FutureWarning: Passing (type, 1) or '1type' as a synonym of type is deprecated; in a future version of numpy, it will be understood as (type, (1,)) / '(1,)type'.\n",
      "  _np_qint8 = np.dtype([(\"qint8\", np.int8, 1)])\n",
      "f:\\dev\\python\\python36\\lib\\site-packages\\tensorflow\\python\\framework\\dtypes.py:524: FutureWarning: Passing (type, 1) or '1type' as a synonym of type is deprecated; in a future version of numpy, it will be understood as (type, (1,)) / '(1,)type'.\n",
      "  _np_quint8 = np.dtype([(\"quint8\", np.uint8, 1)])\n",
      "f:\\dev\\python\\python36\\lib\\site-packages\\tensorflow\\python\\framework\\dtypes.py:525: FutureWarning: Passing (type, 1) or '1type' as a synonym of type is deprecated; in a future version of numpy, it will be understood as (type, (1,)) / '(1,)type'.\n",
      "  _np_qint16 = np.dtype([(\"qint16\", np.int16, 1)])\n",
      "f:\\dev\\python\\python36\\lib\\site-packages\\tensorflow\\python\\framework\\dtypes.py:526: FutureWarning: Passing (type, 1) or '1type' as a synonym of type is deprecated; in a future version of numpy, it will be understood as (type, (1,)) / '(1,)type'.\n",
      "  _np_quint16 = np.dtype([(\"quint16\", np.uint16, 1)])\n",
      "f:\\dev\\python\\python36\\lib\\site-packages\\tensorflow\\python\\framework\\dtypes.py:527: FutureWarning: Passing (type, 1) or '1type' as a synonym of type is deprecated; in a future version of numpy, it will be understood as (type, (1,)) / '(1,)type'.\n",
      "  _np_qint32 = np.dtype([(\"qint32\", np.int32, 1)])\n",
      "f:\\dev\\python\\python36\\lib\\site-packages\\tensorflow\\python\\framework\\dtypes.py:532: FutureWarning: Passing (type, 1) or '1type' as a synonym of type is deprecated; in a future version of numpy, it will be understood as (type, (1,)) / '(1,)type'.\n",
      "  np_resource = np.dtype([(\"resource\", np.ubyte, 1)])\n"
     ]
    }
   ],
   "source": [
    "import tensorflow as tf"
   ]
  },
  {
   "cell_type": "code",
   "execution_count": 3,
   "metadata": {},
   "outputs": [
    {
     "data": {
      "text/plain": [
       "'1.12.0'"
      ]
     },
     "execution_count": 3,
     "metadata": {},
     "output_type": "execute_result"
    }
   ],
   "source": [
    "tf.__version__"
   ]
  },
  {
   "cell_type": "code",
   "execution_count": 14,
   "metadata": {},
   "outputs": [],
   "source": [
    "from tensorflow import keras\n",
    "import matplotlib.pyplot as plt\n",
    "%matplotlib inline"
   ]
  },
  {
   "cell_type": "code",
   "execution_count": 15,
   "metadata": {},
   "outputs": [],
   "source": [
    "(train_images,train_labels),(test_images,test_labels)=tf.keras.datasets.fashion_mnist.load_data()"
   ]
  },
  {
   "cell_type": "code",
   "execution_count": 16,
   "metadata": {},
   "outputs": [],
   "source": [
    "train_images = train_images / 255.0\n",
    "test_images = test_images / 255.0"
   ]
  },
  {
   "cell_type": "code",
   "execution_count": 17,
   "metadata": {},
   "outputs": [
    {
     "data": {
      "text/plain": [
       "(60000, 28, 28)"
      ]
     },
     "execution_count": 17,
     "metadata": {},
     "output_type": "execute_result"
    }
   ],
   "source": [
    "train_images.shape"
   ]
  },
  {
   "cell_type": "code",
   "execution_count": 18,
   "metadata": {},
   "outputs": [],
   "source": [
    "input = keras.Input(shape=(28, 28))"
   ]
  },
  {
   "cell_type": "code",
   "execution_count": 19,
   "metadata": {},
   "outputs": [],
   "source": [
    "x = keras.layers.Flatten()(input)"
   ]
  },
  {
   "cell_type": "code",
   "execution_count": 20,
   "metadata": {},
   "outputs": [],
   "source": [
    "x = keras.layers.Dense(32,activation='relu')(x)"
   ]
  },
  {
   "cell_type": "code",
   "execution_count": 21,
   "metadata": {},
   "outputs": [],
   "source": [
    "x = keras.layers.Dropout(0.5)(x)"
   ]
  },
  {
   "cell_type": "code",
   "execution_count": 22,
   "metadata": {},
   "outputs": [],
   "source": [
    "x = keras.layers.Dense(64,activation='relu')(x)"
   ]
  },
  {
   "cell_type": "code",
   "execution_count": 23,
   "metadata": {},
   "outputs": [],
   "source": [
    "output = keras.layers.Dense(10,activation='softmax')(x)"
   ]
  },
  {
   "cell_type": "code",
   "execution_count": 24,
   "metadata": {},
   "outputs": [],
   "source": [
    "model = keras.Model(inputs=input,outputs=output)"
   ]
  },
  {
   "cell_type": "code",
   "execution_count": 25,
   "metadata": {},
   "outputs": [
    {
     "name": "stdout",
     "output_type": "stream",
     "text": [
      "_________________________________________________________________\n",
      "Layer (type)                 Output Shape              Param #   \n",
      "=================================================================\n",
      "input_1 (InputLayer)         (None, 28, 28)            0         \n",
      "_________________________________________________________________\n",
      "flatten (Flatten)            (None, 784)               0         \n",
      "_________________________________________________________________\n",
      "dense (Dense)                (None, 32)                25120     \n",
      "_________________________________________________________________\n",
      "dropout (Dropout)            (None, 32)                0         \n",
      "_________________________________________________________________\n",
      "dense_1 (Dense)              (None, 64)                2112      \n",
      "_________________________________________________________________\n",
      "dense_2 (Dense)              (None, 10)                650       \n",
      "=================================================================\n",
      "Total params: 27,882\n",
      "Trainable params: 27,882\n",
      "Non-trainable params: 0\n",
      "_________________________________________________________________\n"
     ]
    }
   ],
   "source": [
    "model.summary()"
   ]
  },
  {
   "cell_type": "code",
   "execution_count": 26,
   "metadata": {},
   "outputs": [],
   "source": [
    "model.compile(optimizer='adam',\n",
    "             loss='sparse_categorical_crossentropy',\n",
    "              metrics=['acc']\n",
    "             )"
   ]
  },
  {
   "cell_type": "code",
   "execution_count": 27,
   "metadata": {},
   "outputs": [
    {
     "name": "stdout",
     "output_type": "stream",
     "text": [
      "Train on 60000 samples, validate on 10000 samples\n",
      "Epoch 1/30\n",
      "60000/60000 [==============================] - 4s 61us/step - loss: 3.0662 - acc: 0.2149 - val_loss: 2.2571 - val_acc: 0.1035\n",
      "Epoch 2/30\n",
      "60000/60000 [==============================] - 3s 52us/step - loss: 2.0752 - acc: 0.2177 - val_loss: 2.2730 - val_acc: 0.1119\n",
      "Epoch 3/30\n",
      "60000/60000 [==============================] - 3s 53us/step - loss: 2.0104 - acc: 0.2407 - val_loss: 2.2683 - val_acc: 0.1085\n",
      "Epoch 4/30\n",
      "60000/60000 [==============================] - 3s 52us/step - loss: 1.9830 - acc: 0.2483 - val_loss: 2.2541 - val_acc: 0.1118\n",
      "Epoch 5/30\n",
      "60000/60000 [==============================] - 3s 54us/step - loss: 1.9751 - acc: 0.2476 - val_loss: 2.2353 - val_acc: 0.1497\n",
      "Epoch 6/30\n",
      "60000/60000 [==============================] - 3s 56us/step - loss: 1.9530 - acc: 0.2471 - val_loss: 2.2195 - val_acc: 0.1409\n",
      "Epoch 7/30\n",
      "60000/60000 [==============================] - 3s 53us/step - loss: 2.0068 - acc: 0.2337 - val_loss: 2.2313 - val_acc: 0.1562\n",
      "Epoch 8/30\n",
      "60000/60000 [==============================] - 3s 51us/step - loss: 2.0102 - acc: 0.2248 - val_loss: 2.1739 - val_acc: 0.2028\n",
      "Epoch 9/30\n",
      "60000/60000 [==============================] - 3s 45us/step - loss: 1.9552 - acc: 0.2440 - val_loss: 2.1831 - val_acc: 0.2019\n",
      "Epoch 10/30\n",
      "60000/60000 [==============================] - 3s 42us/step - loss: 1.9299 - acc: 0.2573 - val_loss: 2.1330 - val_acc: 0.2318\n",
      "Epoch 11/30\n",
      "60000/60000 [==============================] - 3s 43us/step - loss: 1.9115 - acc: 0.2670 - val_loss: 2.1415 - val_acc: 0.2344\n",
      "Epoch 12/30\n",
      "60000/60000 [==============================] - 3s 46us/step - loss: 1.8879 - acc: 0.2652 - val_loss: 2.1387 - val_acc: 0.2203\n",
      "Epoch 13/30\n",
      "60000/60000 [==============================] - 3s 45us/step - loss: 1.8732 - acc: 0.2740 - val_loss: 2.1079 - val_acc: 0.2564\n",
      "Epoch 14/30\n",
      "60000/60000 [==============================] - 3s 56us/step - loss: 1.8699 - acc: 0.2725 - val_loss: 2.0753 - val_acc: 0.2577\n",
      "Epoch 15/30\n",
      "60000/60000 [==============================] - 3s 48us/step - loss: 1.8755 - acc: 0.2706 - val_loss: 2.0606 - val_acc: 0.1995\n",
      "Epoch 16/30\n",
      "60000/60000 [==============================] - 3s 46us/step - loss: 1.8668 - acc: 0.2715 - val_loss: 2.0903 - val_acc: 0.1985\n",
      "Epoch 17/30\n",
      "60000/60000 [==============================] - 3s 50us/step - loss: 1.8370 - acc: 0.2786 - val_loss: 2.1376 - val_acc: 0.1894\n",
      "Epoch 18/30\n",
      "60000/60000 [==============================] - 3s 49us/step - loss: 1.8413 - acc: 0.2805 - val_loss: 2.1121 - val_acc: 0.1961\n",
      "Epoch 19/30\n",
      "60000/60000 [==============================] - 3s 50us/step - loss: 1.8164 - acc: 0.2822 - val_loss: 2.1288 - val_acc: 0.1963\n",
      "Epoch 20/30\n",
      "60000/60000 [==============================] - 3s 43us/step - loss: 1.8115 - acc: 0.2852 - val_loss: 2.1554 - val_acc: 0.1967\n",
      "Epoch 21/30\n",
      "60000/60000 [==============================] - 3s 47us/step - loss: 1.7791 - acc: 0.2895 - val_loss: 2.1660 - val_acc: 0.1953\n",
      "Epoch 22/30\n",
      "60000/60000 [==============================] - 3s 47us/step - loss: 1.7628 - acc: 0.2913 - val_loss: 2.1815 - val_acc: 0.1940\n",
      "Epoch 23/30\n",
      "60000/60000 [==============================] - 3s 47us/step - loss: 1.7398 - acc: 0.2917 - val_loss: 2.1538 - val_acc: 0.2002\n",
      "Epoch 24/30\n",
      "60000/60000 [==============================] - 3s 46us/step - loss: 1.7115 - acc: 0.3053 - val_loss: 2.1861 - val_acc: 0.2087\n",
      "Epoch 25/30\n",
      "60000/60000 [==============================] - 3s 46us/step - loss: 1.6948 - acc: 0.3280 - val_loss: 2.2174 - val_acc: 0.1903\n",
      "Epoch 26/30\n",
      "60000/60000 [==============================] - 3s 47us/step - loss: 1.6595 - acc: 0.3322 - val_loss: 2.2089 - val_acc: 0.2071\n",
      "Epoch 27/30\n",
      "60000/60000 [==============================] - 3s 47us/step - loss: 1.6465 - acc: 0.3369 - val_loss: 2.2322 - val_acc: 0.1895\n",
      "Epoch 28/30\n",
      "60000/60000 [==============================] - 3s 47us/step - loss: 1.6520 - acc: 0.3324 - val_loss: 2.2538 - val_acc: 0.1900\n",
      "Epoch 29/30\n",
      "60000/60000 [==============================] - 3s 47us/step - loss: 1.6181 - acc: 0.3414 - val_loss: 2.2940 - val_acc: 0.1896\n",
      "Epoch 30/30\n",
      "60000/60000 [==============================] - 3s 48us/step - loss: 1.5928 - acc: 0.3389 - val_loss: 2.3403 - val_acc: 0.1776\n"
     ]
    }
   ],
   "source": [
    "history = model.fit(train_image,train_labels,epochs=30,validation_data = (test_images,test_labels))"
   ]
  },
  {
   "cell_type": "code",
   "execution_count": 28,
   "metadata": {},
   "outputs": [],
   "source": [
    " input1 = keras.Input(shape=(28, 28))"
   ]
  },
  {
   "cell_type": "code",
   "execution_count": 29,
   "metadata": {},
   "outputs": [],
   "source": [
    " input2 = keras.Input(shape=(28, 28))"
   ]
  },
  {
   "cell_type": "code",
   "execution_count": 30,
   "metadata": {},
   "outputs": [],
   "source": [
    "x1 = keras.layers.Flatten()(input1)\n",
    "x2 = keras.layers.Flatten()(input2)"
   ]
  },
  {
   "cell_type": "code",
   "execution_count": 31,
   "metadata": {},
   "outputs": [],
   "source": [
    "x = keras.layers.concatenate([x1,x2])"
   ]
  },
  {
   "cell_type": "code",
   "execution_count": 32,
   "metadata": {},
   "outputs": [],
   "source": [
    "x = keras.layers.Dense(32,activation='relu')(x)"
   ]
  },
  {
   "cell_type": "code",
   "execution_count": 33,
   "metadata": {},
   "outputs": [],
   "source": [
    "output = keras.layers.Dense(1,activation='sigmoid')(x)"
   ]
  },
  {
   "cell_type": "code",
   "execution_count": 34,
   "metadata": {},
   "outputs": [],
   "source": [
    "model = keras.Model(inputs=[input1,input2],outputs=output)"
   ]
  },
  {
   "cell_type": "code",
   "execution_count": 35,
   "metadata": {},
   "outputs": [
    {
     "name": "stdout",
     "output_type": "stream",
     "text": [
      "__________________________________________________________________________________________________\n",
      "Layer (type)                    Output Shape         Param #     Connected to                     \n",
      "==================================================================================================\n",
      "input_2 (InputLayer)            (None, 28, 28)       0                                            \n",
      "__________________________________________________________________________________________________\n",
      "input_3 (InputLayer)            (None, 28, 28)       0                                            \n",
      "__________________________________________________________________________________________________\n",
      "flatten_1 (Flatten)             (None, 784)          0           input_2[0][0]                    \n",
      "__________________________________________________________________________________________________\n",
      "flatten_2 (Flatten)             (None, 784)          0           input_3[0][0]                    \n",
      "__________________________________________________________________________________________________\n",
      "concatenate (Concatenate)       (None, 1568)         0           flatten_1[0][0]                  \n",
      "                                                                 flatten_2[0][0]                  \n",
      "__________________________________________________________________________________________________\n",
      "dense_3 (Dense)                 (None, 32)           50208       concatenate[0][0]                \n",
      "__________________________________________________________________________________________________\n",
      "dense_4 (Dense)                 (None, 1)            33          dense_3[0][0]                    \n",
      "==================================================================================================\n",
      "Total params: 50,241\n",
      "Trainable params: 50,241\n",
      "Non-trainable params: 0\n",
      "__________________________________________________________________________________________________\n"
     ]
    }
   ],
   "source": [
    "model.summary()"
   ]
  },
  {
   "cell_type": "code",
   "execution_count": null,
   "metadata": {},
   "outputs": [],
   "source": []
  }
 ],
 "metadata": {
  "kernelspec": {
   "display_name": "Python 3",
   "language": "python",
   "name": "python3"
  },
  "language_info": {
   "codemirror_mode": {
    "name": "ipython",
    "version": 3
   },
   "file_extension": ".py",
   "mimetype": "text/x-python",
   "name": "python",
   "nbconvert_exporter": "python",
   "pygments_lexer": "ipython3",
   "version": "3.6.5"
  }
 },
 "nbformat": 4,
 "nbformat_minor": 5
}
